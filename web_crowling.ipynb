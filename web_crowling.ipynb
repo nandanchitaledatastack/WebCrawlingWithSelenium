{
 "cells": [
  {
   "cell_type": "code",
   "execution_count": 34,
   "metadata": {},
   "outputs": [],
   "source": [
    "from selenium import webdriver\n",
    "from selenium.webdriver.chrome.service import Service\n",
    "from selenium.webdriver.common.by import By\n",
    "from selenium.webdriver.common.keys import Keys\n",
    "from selenium.webdriver.chrome.options import Options\n",
    "import pandas as pd\n",
    "import openpyxl\n",
    "from datetime import datetime"
   ]
  },
  {
   "cell_type": "code",
   "execution_count": 35,
   "metadata": {},
   "outputs": [],
   "source": [
    "# Configure Chrome DevTools options\n",
    "chrome_options = Options()\n",
    "chrome_options.add_experimental_option(\"w3c\", False)\n",
    "chrome_options.add_argument(\"--disable-extensions\")\n",
    "chrome_options.add_argument(\"--disable-gpu\")\n",
    "chrome_options.add_argument(\"--headless\")"
   ]
  },
  {
   "cell_type": "code",
   "execution_count": 36,
   "metadata": {},
   "outputs": [],
   "source": [
    "driver = webdriver.Chrome()"
   ]
  },
  {
   "cell_type": "code",
   "execution_count": 37,
   "metadata": {},
   "outputs": [],
   "source": [
    "def collect_data(city, latitude, longitude):\n",
    "    # Set Serach Location\n",
    "    driver.execute_cdp_cmd('Emulation.setGeolocationOverride', {\n",
    "        'latitude': latitude,\n",
    "        'longitude': longitude,\n",
    "        'accuracy': 100\n",
    "    })\n",
    "    \n",
    "    # Navigate to search results page\n",
    "    search_term = f\"internet packages near {city}\"\n",
    "    driver.get(f\"https://www.google.com/search?q={search_term}\")\n",
    "    \n",
    "    # Wait for the page to load\n",
    "    driver.implicitly_wait(1)\n",
    "    \n",
    "    # Collect data for sponsored links\n",
    "    sponsored_links = driver.find_elements(By.XPATH, \"//div[@class='uEierd']\")\n",
    "\n",
    "    data = []\n",
    "    for link in sponsored_links:\n",
    "        link_element = link.find_element(By.TAG_NAME, \"a\")\n",
    "        link_text = link_element.text\n",
    "        link_url = link_element.get_attribute(\"href\")\n",
    "        link_description = link.find_element(By.TAG_NAME, \"span\").text\n",
    "        \n",
    "        additional_data_elements = link.find_elements(By.CSS_SELECTOR, \".MUxGbd, .yDYNvb, .lyLwlc\")\n",
    "        additional_data = [elem.text for elem in additional_data_elements]\n",
    "        \n",
    "        data.append({\n",
    "            \"link_text\": link_text,\n",
    "            \"link_url\": link_url,\n",
    "            \"link_description\": link_description,\n",
    "            \"additional_data\": additional_data\n",
    "        })\n",
    "        \n",
    "    return data"
   ]
  },
  {
   "cell_type": "code",
   "execution_count": 38,
   "metadata": {},
   "outputs": [],
   "source": [
    "cities_excel_file = 'data.xlsx'\n",
    "cities_df = pd.read_excel('cities_data.xlsx')"
   ]
  },
  {
   "cell_type": "code",
   "execution_count": 39,
   "metadata": {},
   "outputs": [
    {
     "name": "stdout",
     "output_type": "stream",
     "text": [
      "Data appended to Excel successfully.\n"
     ]
    }
   ],
   "source": [
    "# Iterate over the cities and collect data for each city\n",
    "results_data = []\n",
    "for index, row in cities_df.iterrows():\n",
    "    city = row[\"city\"]\n",
    "    latitude = row[\"latitude\"]\n",
    "    longitude = row[\"longitude\"]\n",
    "\n",
    "    data = collect_data(city, latitude, longitude)\n",
    "    results_data.extend(data)\n",
    "\n",
    "# Create a dataframe from the collected results data\n",
    "results_df = pd.DataFrame(results_data)\n",
    "\n",
    "# Add a timestamp column to the dataframe\n",
    "timestamp = datetime.now().strftime(\"%Y-%m-%d %H:%M:%S\")\n",
    "results_df[\"timestamp\"] = timestamp\n",
    "\n",
    "# Append the results dataframe to the Excel sheet\n",
    "results_sheet_name = \"results\"\n",
    "\n",
    "try:\n",
    "    with pd.ExcelWriter(cities_excel_file, mode=\"a\", engine=\"openpyxl\") as writer:\n",
    "        results_df.to_excel(writer, sheet_name=results_sheet_name, index=False, header=not writer.book)\n",
    "\n",
    "except FileNotFoundError:\n",
    "    results_df.to_excel(cities_excel_file, sheet_name=results_sheet_name, index=False)\n",
    "\n",
    "print(\"Data appended to Excel successfully.\")\n",
    "\n",
    "# Close the browser\n",
    "driver.quit()"
   ]
  },
  {
   "cell_type": "code",
   "execution_count": null,
   "metadata": {},
   "outputs": [],
   "source": [
    "try:\n",
    "    # Set location to Denver\n",
    "    driver.execute_cdp_cmd('Emulation.setGeolocationOverride', {\n",
    "        'latitude': 39.7392,\n",
    "        'longitude': -104.9903,\n",
    "        'accuracy': 100\n",
    "    })\n",
    "except Exception as e:\n",
    "    print(f\"Exception while loading location in Emulator : {e}\")"
   ]
  },
  {
   "cell_type": "code",
   "execution_count": null,
   "metadata": {},
   "outputs": [],
   "source": [
    "# Navigate to search results page\n",
    "search_term = \"internet packages near new york\"\n",
    "driver.get(f\"https://www.google.com/search?q={search_term}\")"
   ]
  },
  {
   "cell_type": "code",
   "execution_count": null,
   "metadata": {},
   "outputs": [],
   "source": [
    "# Wait for the page to load\n",
    "driver.implicitly_wait(5)"
   ]
  },
  {
   "cell_type": "code",
   "execution_count": null,
   "metadata": {},
   "outputs": [],
   "source": [
    "# Collect data for sponsored links\n",
    "sponsored_links = driver.find_elements(By.XPATH, \"//div[@class='uEierd']\")\n",
    "\n",
    "data = []\n",
    "for link in sponsored_links:\n",
    "    link_element = link.find_element(By.TAG_NAME, \"a\")\n",
    "    link_text = link_element.text\n",
    "    link_url = link_element.get_attribute(\"href\")\n",
    "    link_description = link.find_element(By.TAG_NAME, \"span\").text\n",
    "    \n",
    "    additional_data_elements = link.find_elements(By.CSS_SELECTOR, \".MUxGbd, .yDYNvb, .lyLwlc\")\n",
    "    additional_data = [elem.text for elem in additional_data_elements]\n",
    "    \n",
    "    data.append({\n",
    "        \"link_text\": link_text,\n",
    "        \"link_url\": link_url,\n",
    "        \"link_description\": link_description,\n",
    "        \"additional_data\": additional_data\n",
    "    })"
   ]
  },
  {
   "cell_type": "code",
   "execution_count": null,
   "metadata": {},
   "outputs": [],
   "source": [
    "# Print collected data\n",
    "for item in data:\n",
    "    print(\"Link Text:\", item[\"link_text\"])\n",
    "    print(\"Link URL:\", item[\"link_url\"])\n",
    "    print(\"Link Description:\", item[\"link_description\"])\n",
    "    print(\"Additional Data:\", item[\"additional_data\"])\n",
    "    print(\"---------------------------------------------\")"
   ]
  },
  {
   "cell_type": "code",
   "execution_count": null,
   "metadata": {},
   "outputs": [],
   "source": [
    "# Close the browser\n",
    "# driver.quit()"
   ]
  },
  {
   "cell_type": "code",
   "execution_count": null,
   "metadata": {},
   "outputs": [],
   "source": [
    "# Create a dataframe from the collected data\n",
    "df = pd.DataFrame(data)\n",
    "\n",
    "# Add a timestamp column to the dataframe\n",
    "timestamp = datetime.now().strftime(\"%Y-%m-%d %H:%M:%S\")\n",
    "df[\"timestamp\"] = timestamp"
   ]
  },
  {
   "cell_type": "code",
   "execution_count": null,
   "metadata": {},
   "outputs": [],
   "source": [
    "excel_file = 'data.xlsx'\n",
    "sheet_name = 'Sheet1'"
   ]
  },
  {
   "cell_type": "code",
   "execution_count": null,
   "metadata": {},
   "outputs": [],
   "source": [
    "try:\n",
    "    with pd.ExcelWriter(excel_file, mode=\"a\", engine=\"openpyxl\") as writer:\n",
    "        # Try to open the existing sheet, if it exists\n",
    "        writer.book = writer.book if sheet_name in writer.book.sheetnames else None\n",
    "        df.to_excel(writer, sheet_name=sheet_name, index=False, header=not writer.book)\n",
    "\n",
    "except FileNotFoundError:\n",
    "    # If the Excel file doesn't exist, create a new one with the dataframe\n",
    "    df.to_excel(excel_file, sheet_name=sheet_name, index=False)\n",
    "\n",
    "print(\"Data appended to Excel successfully.\")"
   ]
  },
  {
   "cell_type": "code",
   "execution_count": null,
   "metadata": {},
   "outputs": [],
   "source": [
    "cities_data = [\n",
    "    {\"city\": \"New York\", \"latitude\": 40.7128, \"longitude\": -74.0060},\n",
    "    {\"city\": \"Los Angeles\", \"latitude\": 34.0522, \"longitude\": -118.2437},\n",
    "    {\"city\": \"Chicago\", \"latitude\": 41.8781, \"longitude\": -87.6298},\n",
    "    {\"city\": \"Houston\", \"latitude\": 29.7604, \"longitude\": -95.3698},\n",
    "    {\"city\": \"Phoenix\", \"latitude\": 33.4484, \"longitude\": -112.0740},\n",
    "    {\"city\": \"Philadelphia\", \"latitude\": 39.9526, \"longitude\": -75.1652},\n",
    "    {\"city\": \"San Antonio\", \"latitude\": 29.4241, \"longitude\": -98.4936},\n",
    "    {\"city\": \"San Diego\", \"latitude\": 32.7157, \"longitude\": -117.1611},\n",
    "    {\"city\": \"Dallas\", \"latitude\": 32.7767, \"longitude\": -96.7970},\n",
    "    {\"city\": \"San Jose\", \"latitude\": 37.3382, \"longitude\": -121.8863},\n",
    "    {\"city\": \"Austin\", \"latitude\": 30.2672, \"longitude\": -97.7431},\n",
    "    {\"city\": \"Jacksonville\", \"latitude\": 30.3322, \"longitude\": -81.6557},\n",
    "    {\"city\": \"San Francisco\", \"latitude\": 37.7749, \"longitude\": -122.4194},\n",
    "    {\"city\": \"Columbus\", \"latitude\": 39.9612, \"longitude\": -82.9988},\n",
    "    {\"city\": \"Indianapolis\", \"latitude\": 39.7684, \"longitude\": -86.1581},\n",
    "    {\"city\": \"Fort Worth\", \"latitude\": 32.7555, \"longitude\": -97.3308},\n",
    "    {\"city\": \"Charlotte\", \"latitude\": 35.2271, \"longitude\": -80.8431},\n",
    "    {\"city\": \"Seattle\", \"latitude\": 47.6062, \"longitude\": -122.3321},\n",
    "    {\"city\": \"Denver\", \"latitude\": 39.7392, \"longitude\": -104.9903},\n",
    "    {\"city\": \"Washington, D.C.\", \"latitude\": 38.9072, \"longitude\": -77.0369},\n",
    "    {\"city\": \"Boston\", \"latitude\": 42.3601, \"longitude\": -71.0589},\n",
    "    {\"city\": \"El Paso\", \"latitude\": 31.7619, \"longitude\": -106.4850},\n",
    "    {\"city\": \"Nashville\", \"latitude\": 36.1627, \"longitude\": -86.7816},\n",
    "    {\"city\": \"Detroit\", \"latitude\": 42.3314, \"longitude\": -83.0458},\n",
    "    {\"city\": \"Oklahoma City\", \"latitude\": 35.4676, \"longitude\": -97.5164},\n",
    "    {\"city\": \"Portland\", \"latitude\": 45.5051, \"longitude\": -122.6750},\n",
    "    {\"city\": \"Las Vegas\", \"latitude\": 36.1699, \"longitude\": -115.1398},\n",
    "    {\"city\": \"Memphis\", \"latitude\": 35.1495, \"longitude\": -90.0490},\n",
    "    {\"city\": \"Louisville\", \"latitude\": 38.2527, \"longitude\": -85.7585},\n",
    "    {\"city\": \"Baltimore\", \"latitude\": 39.2904, \"longitude\": -76.6122},\n",
    "    {\"city\": \"Milwaukee\", \"latitude\": 43.0389, \"longitude\": -87.9065},\n",
    "    {\"city\": \"Albuquerque\", \"latitude\": 35.0844, \"longitude\": -106.6504},\n",
    "    {\"city\": \"Tucson\", \"latitude\": 32.2226, \"longitude\": -110.9747},\n",
    "    {\"city\": \"Fresno\", \"latitude\": 36.7372, \"longitude\": -119.7871},\n",
    "    {\"city\": \"Mesa\", \"latitude\": 33.4152, \"longitude\": -111.8315},\n",
    "    {\"city\": \"Sacramento\", \"latitude\": 38.5816, \"longitude\": -121.4944},\n",
    "    {\"city\": \"Atlanta\", \"latitude\": 33.7490, \"longitude\": -84.3880},\n",
    "    {\"city\": \"Kansas City\", \"latitude\": 39.0997, \"longitude\": -94.5786},\n",
    "    {\"city\": \"Colorado Springs\", \"latitude\": 38.8339, \"longitude\": -104.8214},\n",
    "    {\"city\": \"Miami\", \"latitude\": 25.7617, \"longitude\": -80.1918},\n",
    "    {\"city\": \"Raleigh\", \"latitude\": 35.7796, \"longitude\": -78.6382},\n",
    "    {\"city\": \"Long Beach\", \"latitude\": 33.7701, \"longitude\": -118.1937},\n",
    "    {\"city\": \"Virginia Beach\", \"latitude\": 36.8529, \"longitude\": -75.9780},\n",
    "    {\"city\": \"Oakland\", \"latitude\": 37.8044, \"longitude\": -122.2712},\n",
    "    {\"city\": \"Minneapolis\", \"latitude\": 44.9778, \"longitude\": -93.2650},\n",
    "    {\"city\": \"Tampa\", \"latitude\": 27.9506, \"longitude\": -82.4572},\n",
    "    {\"city\": \"Tulsa\", \"latitude\": 36.1540, \"longitude\": -95.9928},\n",
    "    {\"city\": \"New Orleans\", \"latitude\": 29.9511, \"longitude\": -90.0715},\n",
    "    {\"city\": \"Wichita\", \"latitude\": 37.6872, \"longitude\": -97.3301},\n",
    "    {\"city\": \"Cleveland\", \"latitude\": 41.4993, \"longitude\": -81.6944},\n",
    "    {\"city\": \"Bakersfield\", \"latitude\": 35.3733, \"longitude\": -119.0187},\n",
    "    {\"city\": \"Arlington\", \"latitude\": 32.7357, \"longitude\": -97.1081},\n",
    "]\n",
    "\n",
    "\n",
    "# Write the dataframe to an Excel file\n",
    "excel_file = \"cities_data.xlsx\"\n",
    "sheet_name = \"cities\"\n",
    "df.to_excel(excel_file, sheet_name=sheet_name, index=False)"
   ]
  }
 ],
 "metadata": {
  "kernelspec": {
   "display_name": "env",
   "language": "python",
   "name": "python3"
  },
  "language_info": {
   "codemirror_mode": {
    "name": "ipython",
    "version": 3
   },
   "file_extension": ".py",
   "mimetype": "text/x-python",
   "name": "python",
   "nbconvert_exporter": "python",
   "pygments_lexer": "ipython3",
   "version": "3.10.7"
  },
  "orig_nbformat": 4
 },
 "nbformat": 4,
 "nbformat_minor": 2
}
