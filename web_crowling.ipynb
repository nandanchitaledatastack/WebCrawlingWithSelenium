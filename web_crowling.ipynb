{
 "cells": [
  {
   "cell_type": "code",
   "execution_count": 34,
   "metadata": {},
   "outputs": [],
   "source": [
    "from selenium import webdriver\n",
    "from selenium.webdriver.chrome.service import Service\n",
    "from selenium.webdriver.common.by import By\n",
    "from selenium.webdriver.common.keys import Keys\n",
    "from selenium.webdriver.chrome.options import Options\n",
    "import pandas as pd\n",
    "import openpyxl\n",
    "from datetime import datetime"
   ]
  },
  {
   "cell_type": "code",
   "execution_count": 35,
   "metadata": {},
   "outputs": [],
   "source": [
    "# Configure Chrome DevTools options\n",
    "chrome_options = Options()\n",
    "chrome_options.add_experimental_option(\"w3c\", False)\n",
    "chrome_options.add_argument(\"--disable-extensions\")\n",
    "chrome_options.add_argument(\"--disable-gpu\")\n",
    "chrome_options.add_argument(\"--headless\")"
   ]
  },
  {
   "cell_type": "code",
   "execution_count": 36,
   "metadata": {},
   "outputs": [],
   "source": [
    "driver = webdriver.Chrome()"
   ]
  },
  {
   "cell_type": "code",
   "execution_count": 37,
   "metadata": {},
   "outputs": [],
   "source": [
    "def collect_data(city, latitude, longitude):\n",
    "    # Set Serach Location\n",
    "    driver.execute_cdp_cmd('Emulation.setGeolocationOverride', {\n",
    "        'latitude': latitude,\n",
    "        'longitude': longitude,\n",
    "        'accuracy': 100\n",
    "    })\n",
    "    \n",
    "    # Navigate to search results page\n",
    "    search_term = f\"internet packages near {city}\"\n",
    "    driver.get(f\"https://www.google.com/search?q={search_term}\")\n",
    "    \n",
    "    # Wait for the page to load\n",
    "    driver.implicitly_wait(1)\n",
    "    \n",
    "    # Collect data for sponsored links\n",
    "    sponsored_links = driver.find_elements(By.XPATH, \"//div[@class='uEierd']\")\n",
    "\n",
    "    data = []\n",
    "    for link in sponsored_links:\n",
    "        link_element = link.find_element(By.TAG_NAME, \"a\")\n",
    "        link_text = link_element.text\n",
    "        link_url = link_element.get_attribute(\"href\")\n",
    "        link_description = link.find_element(By.TAG_NAME, \"span\").text\n",
    "        \n",
    "        additional_data_elements = link.find_elements(By.CSS_SELECTOR, \".MUxGbd, .yDYNvb, .lyLwlc\")\n",
    "        additional_data = [elem.text for elem in additional_data_elements]\n",
    "        \n",
    "        data.append({\n",
    "            \"link_text\": link_text,\n",
    "            \"link_url\": link_url,\n",
    "            \"link_description\": link_description,\n",
    "            \"additional_data\": additional_data\n",
    "        })\n",
    "        \n",
    "    return data"
   ]
  },
  {
   "cell_type": "code",
   "execution_count": 38,
   "metadata": {},
   "outputs": [],
   "source": [
    "cities_excel_file = 'data.xlsx'\n",
    "cities_df = pd.read_excel('cities_data.xlsx')"
   ]
  },
  {
   "cell_type": "code",
   "execution_count": 39,
   "metadata": {},
   "outputs": [
    {
     "name": "stdout",
     "output_type": "stream",
     "text": [
      "Data appended to Excel successfully.\n"
     ]
    }
   ],
   "source": [
    "# Iterate over the cities and collect data for each city\n",
    "results_data = []\n",
    "for index, row in cities_df.iterrows():\n",
    "    city = row[\"city\"]\n",
    "    latitude = row[\"latitude\"]\n",
    "    longitude = row[\"longitude\"]\n",
    "\n",
    "    data = collect_data(city, latitude, longitude)\n",
    "    results_data.extend(data)\n",
    "\n",
    "# Create a dataframe from the collected results data\n",
    "results_df = pd.DataFrame(results_data)\n",
    "\n",
    "# Add a timestamp column to the dataframe\n",
    "timestamp = datetime.now().strftime(\"%Y-%m-%d %H:%M:%S\")\n",
    "results_df[\"timestamp\"] = timestamp\n",
    "\n",
    "# Append the results dataframe to the Excel sheet\n",
    "results_sheet_name = \"results\"\n",
    "\n",
    "try:\n",
    "    with pd.ExcelWriter(cities_excel_file, mode=\"a\", engine=\"openpyxl\") as writer:\n",
    "        results_df.to_excel(writer, sheet_name=results_sheet_name, index=False, header=not writer.book)\n",
    "\n",
    "except FileNotFoundError:\n",
    "    results_df.to_excel(cities_excel_file, sheet_name=results_sheet_name, index=False)\n",
    "\n",
    "print(\"Data appended to Excel successfully.\")\n",
    "\n",
    "# Close the browser\n",
    "driver.quit()"
   ]
  }
 ],
 "metadata": {
  "kernelspec": {
   "display_name": "env",
   "language": "python",
   "name": "python3"
  },
  "language_info": {
   "codemirror_mode": {
    "name": "ipython",
    "version": 3
   },
   "file_extension": ".py",
   "mimetype": "text/x-python",
   "name": "python",
   "nbconvert_exporter": "python",
   "pygments_lexer": "ipython3",
   "version": "3.10.7"
  },
  "orig_nbformat": 4
 },
 "nbformat": 4,
 "nbformat_minor": 2
}
